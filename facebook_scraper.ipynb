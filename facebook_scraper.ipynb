{
 "cells": [
  {
   "cell_type": "code",
   "execution_count": null,
   "id": "6445b804",
   "metadata": {},
   "outputs": [],
   "source": [
    "import time\n",
    "import csv\n",
    "import random\n",
    "from selenium import webdriver\n",
    "from selenium.webdriver.chrome.service import Service\n",
    "from selenium.webdriver.chrome.options import Options\n",
    "from selenium.webdriver.common.by import By\n",
    "from selenium.webdriver.support.ui import WebDriverWait\n",
    "from selenium.webdriver.support import expected_conditions as EC\n",
    "from webdriver_manager.chrome import ChromeDriverManager\n",
    "from bs4 import BeautifulSoup"
   ]
  },
  {
   "cell_type": "code",
   "execution_count": null,
   "id": "7d24d445",
   "metadata": {},
   "outputs": [],
   "source": [
    "def setup_driver():\n",
    "    chrome_options = Options()\n",
    "    chrome_options.add_argument(\"--no-sandbox\")\n",
    "    chrome_options.add_argument(\"--disable-dev-shm-usage\")\n",
    "    chrome_options.add_argument(\"--disable-notifications\")\n",
    "    chrome_options.add_argument(\"--disable-infobars\")\n",
    "    chrome_options.add_argument(\"--start-maximized\")\n",
    "    \n",
    "    service = Service(ChromeDriverManager().install())\n",
    "    driver = webdriver.Chrome(service=service, options=chrome_options)\n",
    "    return driver"
   ]
  },
  {
   "cell_type": "code",
   "execution_count": null,
   "id": "57445e3a",
   "metadata": {},
   "outputs": [],
   "source": [
    "def login(driver, email, password):\n",
    "    try:\n",
    "        driver.get(\"https://www.facebook.com/\")\n",
    "        try:\n",
    "            cookie_button = WebDriverWait(driver, 5).until(\n",
    "                EC.element_to_be_clickable((By.XPATH, \"//button[contains(string(), 'Accept') or contains(string(), 'Allow') or contains(string(), 'Accepter')]\"))\n",
    "            )\n",
    "            cookie_button.click()\n",
    "        except:\n",
    "            print(\"No cookie dialog found or already accepted.\")\n",
    "        \n",
    "        email_field = WebDriverWait(driver, 10).until(EC.presence_of_element_located((By.ID, \"email\")))\n",
    "        email_field.send_keys(email)\n",
    "        \n",
    "        password_field = driver.find_element(By.ID, \"pass\")\n",
    "        password_field.send_keys(password)\n",
    "        \n",
    "        login_button = driver.find_element(By.NAME, \"login\")\n",
    "        login_button.click()\n",
    "        \n",
    "        WebDriverWait(driver, 15).until(EC.presence_of_element_located((By.XPATH, \"//div[@role='navigation']\")))\n",
    "        print(\"Login successful!\")\n",
    "        return True\n",
    "        \n",
    "    except Exception as e:\n",
    "        print(f\"Login failed: {str(e)}\")\n",
    "        return False"
   ]
  },
  {
   "cell_type": "code",
   "execution_count": null,
   "id": "20443a0d",
   "metadata": {},
   "outputs": [],
   "source": [
    "def scroll_page(driver, scroll_count=3):\n",
    "    for i in range(scroll_count):\n",
    "        driver.execute_script(\"window.scrollTo(0, document.body.scrollHeight);\")\n",
    "        time.sleep(random.uniform(5, 8))\n",
    "        print(f\"Scrolled {i+1}/{scroll_count} times\")\n",
    "        \n",
    "        try:\n",
    "            see_more_buttons = driver.find_elements(By.XPATH, \"//div[contains(text(), 'See More') or contains(text(), 'Voir plus')]\")\n",
    "            for button in see_more_buttons[:5]:\n",
    "                driver.execute_script(\"arguments[0].click();\", button)\n",
    "                time.sleep(1)\n",
    "        except:\n",
    "            pass"
   ]
  },
  {
   "cell_type": "code",
   "execution_count": null,
   "id": "9813d147",
   "metadata": {},
   "outputs": [],
   "source": [
    "def search_hashtag(driver, hashtag):\n",
    "    try:\n",
    "        driver.get(f\"https://www.facebook.com/hashtag/{hashtag}\")\n",
    "        time.sleep(15)\n",
    "        scroll_page(driver, 20)\n",
    "        return parse_posts(driver)\n",
    "    except Exception as e:\n",
    "        print(f\"Error searching hashtag: {str(e)}\")\n",
    "        return []"
   ]
  },
  {
   "cell_type": "code",
   "execution_count": null,
   "id": "47015255",
   "metadata": {},
   "outputs": [],
   "source": [
    "def parse_posts(driver):\n",
    "    posts = []\n",
    "    soup = BeautifulSoup(driver.page_source, 'html.parser')\n",
    "    post_elements = soup.find_all('div', {'class': 'x1yztbdb'})\n",
    "    \n",
    "    for post in post_elements:\n",
    "        try:\n",
    "            post_text_element = post.find('div', {'data-ad-preview': 'message'})\n",
    "            post_text = post_text_element.get_text() if post_text_element else \"No text found\"\n",
    "            \n",
    "            date_element = post.find('span', {'class': 'x4k7w5x'})\n",
    "            post_date = date_element.get_text() if date_element else \"No date found\"\n",
    "            \n",
    "            author_element = post.find('span', {'class': 'x3nfvp2'})\n",
    "            author = author_element.get_text() if author_element else \"No author found\"\n",
    "            \n",
    "            link_element = post.find('a', {'class': 'x1i10hfl'})\n",
    "            post_url = link_element.get('href') if link_element else \"No URL found\"\n",
    "            if post_url.startswith('/'):\n",
    "                post_url = 'https://www.facebook.com' + post_url\n",
    "            \n",
    "            posts.append({\n",
    "                'author': author,\n",
    "                'date': post_date,\n",
    "                'text': post_text,\n",
    "                'url': post_url\n",
    "            })\n",
    "        except Exception as e:\n",
    "            print(f\"Error parsing post: {str(e)}\")\n",
    "            continue\n",
    "            \n",
    "    print(f\"Found {len(posts)} posts\")\n",
    "    return posts"
   ]
  },
  {
   "cell_type": "code",
   "execution_count": null,
   "id": "c5515228",
   "metadata": {},
   "outputs": [],
   "source": [
    "def save_to_csv(posts, filename=\"harcelement_posts.csv\"):\n",
    "    try:\n",
    "        with open(filename, 'w', newline='', encoding='utf-8') as csvfile:\n",
    "            fieldnames = ['author', 'date', 'text', 'url']\n",
    "            writer = csv.DictWriter(csvfile, fieldnames=fieldnames)\n",
    "            writer.writeheader()\n",
    "            for post in posts:\n",
    "                writer.writerow(post)\n",
    "        print(f\"Successfully saved {len(posts)} posts to {filename}\")\n",
    "    except Exception as e:\n",
    "        print(f\"Error saving to CSV: {str(e)}\")"
   ]
  },
  {
   "cell_type": "code",
   "execution_count": null,
   "id": "54ef4f44",
   "metadata": {},
   "outputs": [],
   "source": [
    "email = \"tyassin375@gmail.com\"\n",
    "password = \"58998503\"\n",
    "\n",
    "driver = setup_driver()\n"
   ]
  },
  {
   "cell_type": "code",
   "execution_count": null,
   "id": "98688596",
   "metadata": {},
   "outputs": [],
   "source": [
    "login(driver, email, password)"
   ]
  },
  {
   "cell_type": "code",
   "execution_count": null,
   "id": "b3d9f1b5",
   "metadata": {},
   "outputs": [],
   "source": [
    "posts = search_hashtag(driver, \"harcèlement\")"
   ]
  },
  {
   "cell_type": "code",
   "execution_count": null,
   "id": "233a6f06",
   "metadata": {},
   "outputs": [],
   "source": [
    "posts[:2]"
   ]
  },
  {
   "cell_type": "code",
   "execution_count": null,
   "id": "4a6f867b",
   "metadata": {},
   "outputs": [],
   "source": [
    "save_to_csv(posts)"
   ]
  },
  {
   "cell_type": "code",
   "execution_count": null,
   "id": "294e7048",
   "metadata": {},
   "outputs": [],
   "source": [
    "driver.quit()"
   ]
  }
 ],
 "metadata": {
  "language_info": {
   "name": "python"
  }
 },
 "nbformat": 4,
 "nbformat_minor": 5
}
