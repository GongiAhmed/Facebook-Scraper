{
 "cells": [
  {
   "cell_type": "code",
   "execution_count": null,
   "id": "70148f4a",
   "metadata": {},
   "outputs": [],
   "source": [
    "import os\n",
    "import re\n",
    "import pandas as pd\n",
    "from fastapi import FastAPI, UploadFile, File, HTTPException, BackgroundTasks\n",
    "from fastapi.responses import JSONResponse\n",
    "from pydantic import BaseModel\n",
    "from typing import List, Optional\n",
    "import pymongo\n",
    "from detoxify import Detoxify\n",
    "import uvicorn\n",
    "from bson import json_util\n",
    "import json\n",
    "\n",
    "app = FastAPI(title=\"Facebook Comments Toxicity Analyzer\")"
   ]
  },
  {
   "cell_type": "code",
   "execution_count": null,
   "id": "06e7aaba",
   "metadata": {},
   "outputs": [],
   "source": [
    "client = pymongo.MongoClient(\"mongodb://localhost:27017/\")\n",
    "db = client[\"facebook_comments\"]\n",
    "collection = db[\"toxicity_analysis\"]"
   ]
  },
  {
   "cell_type": "code",
   "execution_count": null,
   "id": "4fc177d8",
   "metadata": {},
   "outputs": [],
   "source": [
    "model = Detoxify('original')"
   ]
  },
  {
   "cell_type": "code",
   "execution_count": null,
   "id": "bd286a95",
   "metadata": {},
   "outputs": [],
   "source": [
    "def clean_text(text):\n",
    "    if text == \"No text found\":\n",
    "        return \"\"\n",
    "    text = re.sub(r'https?://\\S+|www\\.\\S+', '', text)\n",
    "    text = re.sub(r'<.*?>', '', text)\n",
    "    text = re.sub(r'\\s+', ' ', text).strip()\n",
    "    text = re.sub(r'…\\s*En voir plus', '', text)\n",
    "    return text\n",
    "\n",
    "def analyze_toxicity(text):\n",
    "    if not text or text == \"\":\n",
    "        return {\n",
    "            \"toxicity\": 0.0,\n",
    "            \"severe_toxicity\": 0.0,\n",
    "            \"obscene\": 0.0,\n",
    "            \"threat\": 0.0,\n",
    "            \"insult\": 0.0,\n",
    "            \"identity_attack\": 0.0\n",
    "        }\n",
    "    results = model.predict(text)\n",
    "    return {k: float(v) for k, v in results.items()}"
   ]
  },
  {
   "cell_type": "code",
   "execution_count": null,
   "id": "e33a94fe",
   "metadata": {},
   "outputs": [],
   "source": [
    "def process_csv(file_path):\n",
    "    try:\n",
    "        df = pd.read_csv(file_path)\n",
    "        results = []\n",
    "        for _, row in df.iterrows():\n",
    "            if row['text'] == \"No text found\":\n",
    "                continue\n",
    "            cleaned_text = clean_text(row['text'])\n",
    "            toxicity_scores = analyze_toxicity(cleaned_text)\n",
    "            result = {\n",
    "                \"author\": row['author'],\n",
    "                \"date\": row['date'],\n",
    "                \"text\": row['text'],\n",
    "                \"url\": row['url'],\n",
    "                \"cleaned_text\": cleaned_text,\n",
    "                **toxicity_scores\n",
    "            }\n",
    "            results.append(result)\n",
    "            collection.insert_one(result)\n",
    "        results_df = pd.DataFrame(results)\n",
    "        results_df.to_csv(file_path.replace('.csv', '_analyzed.csv'), index=False)\n",
    "        return len(results)\n",
    "    except Exception as e:\n",
    "        print(f\"Error processing CSV: {str(e)}\")\n",
    "        raise e"
   ]
  },
  {
   "cell_type": "code",
   "execution_count": null,
   "id": "f18a4274",
   "metadata": {},
   "outputs": [],
   "source": [
    "text = \"Tu es vraiment bête et inutile. Va-t'en.\"\n",
    "cleaned = clean_text(text)\n",
    "toxicity_scores = analyze_toxicity(cleaned)\n",
    "\n",
    "print(\"Texte nettoyé:\", cleaned)\n",
    "print(\"Scores de toxicité:\", toxicity_scores)"
   ]
  },
  {
   "cell_type": "markdown",
   "id": "9a745f58",
   "metadata": {},
   "source": [
    "### ▶️ Pour lancer l'API en local :\n",
    "\n",
    "Exécuter cette commande dans un terminal (pas ici dans Jupyter) :\n",
    "\n",
    "```\n",
    "uvicorn app:app --reload\n",
    "```"
   ]
  }
 ],
 "metadata": {},
 "nbformat": 4,
 "nbformat_minor": 5
}